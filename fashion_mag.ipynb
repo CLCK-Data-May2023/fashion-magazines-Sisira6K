{
 "cells": [
  {
   "cell_type": "code",
   "execution_count": 16,
   "metadata": {},
   "outputs": [
    {
     "name": "stdout",
     "output_type": "stream",
     "text": [
      "           Customer Amount Due\n",
      "0   Bethann Schraub    $102.00\n",
      "1        Eryn Vilar    $102.00\n",
      "2      Janay Priolo     $57.00\n",
      "3  Lizabeth Letsche    $237.00\n"
     ]
    }
   ],
   "source": [
    "import sqlite3\n",
    "import pandas as pd\n",
    "\n",
    "#Connect to Database\n",
    "conn = sqlite3.connect('db/fashion_magazines.db')\n",
    "\n",
    "query = '''SELECT customer_name AS Customer,PRINTF('$%.2f',sum(s.price_per_month*s.subscription_length)) AS 'Amount Due'\t\n",
    "FROM customers c\n",
    "INNER JOIN orders o\n",
    "ON c.customer_id =o.customer_id\n",
    "INNER JOIN subscriptions s\n",
    "ON s.subscription_id= o.subscription_id\n",
    "WHERE s.description='Fashion Magazine' AND o.order_status = 'unpaid'\n",
    "GROUP BY Customer\n",
    "\n",
    "\n",
    "'''\n",
    "\n",
    "\n",
    "df = pd.read_sql(query, conn)\n",
    "\n",
    "# Display the dataframe\n",
    "print(df)\n",
    "conn.close()"
   ]
  }
 ],
 "metadata": {
  "kernelspec": {
   "display_name": "venv",
   "language": "python",
   "name": "python3"
  },
  "language_info": {
   "codemirror_mode": {
    "name": "ipython",
    "version": 3
   },
   "file_extension": ".py",
   "mimetype": "text/x-python",
   "name": "python",
   "nbconvert_exporter": "python",
   "pygments_lexer": "ipython3",
   "version": "3.11.6"
  }
 },
 "nbformat": 4,
 "nbformat_minor": 2
}
